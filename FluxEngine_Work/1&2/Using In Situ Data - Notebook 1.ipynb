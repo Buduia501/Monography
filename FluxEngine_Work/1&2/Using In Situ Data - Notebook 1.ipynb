{
 "cells": [
  {
   "cell_type": "markdown",
   "id": "f7a518ef",
   "metadata": {},
   "source": [
    "# Using Insitu Data with FluxEngine #\n",
    "\n",
    "## Introduction\n",
    "This script details how to visualise collected data and apply the FluxEngine functionalities to calculate air-sea gas flux"
   ]
  },
  {
   "cell_type": "markdown",
   "id": "c3e35f11",
   "metadata": {},
   "source": [
    "### Load Relevant Modules\n",
    "To begin with the required Python packages are loaded (note: these are required to be installed in your environment first, else an error with appear). Also this is a good time to ensure you are running this script in the same environment where you have installed FluxEngine."
   ]
  },
  {
   "cell_type": "code",
   "execution_count": null,
   "id": "c0382b96",
   "metadata": {},
   "outputs": [],
   "source": [
    "import os\n",
    "import numpy as np\n",
    "import pandas as pd\n",
    "import matplotlib.pyplot as plt\n",
    "import seaborn as sns\n",
    "import datetime as dt\n",
    "from mpl_toolkits.basemap import Basemap\n",
    "from netCDF4 import Dataset\n",
    "# Install basemap-data-hires"
   ]
  },
  {
   "cell_type": "markdown",
   "id": "3e80327b",
   "metadata": {},
   "source": [
    "### Loading the insitu data\n",
    "Now we load the insitu data. This is very simple using the Pandas library where we can use the .read_csv() function, which can load CSV (Comma Seperated Values) or TSV (Tab Seperated Values) files. If you're using a CSV file the the 'sep' keyword should be changed to ',' but if using a TSV file then you can keep the sep='\\t'. Additionally, the 'index_col' keyword is set to 0 to define that the first column in the data is simply indexing/counting the rows (i.e it's not actual data). You can try removing this with the example data to see what happens (it may help if for some reason your data does not include and index column).\n",
    "\n",
    "Change the input file to either 'Carrick_Roads.tsv' or 'Agulhas.tsv' to load the example data, or input your own data file. We then show the first 5 rows of the data using the .head() function (and you can see the bottom 5 rows by changing this to .tail())"
   ]
  },
  {
   "cell_type": "code",
   "execution_count": null,
   "id": "c6b4e599",
   "metadata": {
    "scrolled": true
   },
   "outputs": [],
   "source": [
    "# Load data file\n",
    "region_data = pd.read_csv('CarrickRoads.tsv', sep='\\t', index_col=0)\n",
    "# Show small proportion of the data\n",
    "region_data.head(5)"
   ]
  },
  {
   "cell_type": "markdown",
   "id": "1c6c53d4",
   "metadata": {},
   "source": [
    "### Preparing to Plot the Recorded Data\n",
    "We want to plot a 'time series' of the data that was recorded. One way to show this is to plot 'Days since [first recording]' along the x-axis and the data along the y-axis. The cell below finds the number of days since the first measurement (technically it finds the number of seconds since the first recording and divides this by 86,400) and creates a new column in the Dataframe to show these values.\n",
    "\n",
    "Note: if your own dataset doesn't have columns for 'Year', 'Month', 'Day', etc. then the below won't work and you need to add this to your dataset. This can be done in Excel (but better to do it Pythonically if possible to prevent Excel making changes to it's own formatting), and see example datasets for the required format."
   ]
  },
  {
   "cell_type": "code",
   "execution_count": null,
   "id": "7ff7722e",
   "metadata": {},
   "outputs": [],
   "source": [
    "# Initialise the new Dataframe column and fill with a hold value\n",
    "region_data['Hours_since'] = 'hold value'\n",
    "\n",
    "# Produce a datetime object for the first recording \n",
    "# - the zeros in the line below show it's the first row (index starts at zero)\n",
    "start_date = dt.datetime(region_data.loc[0,'Year'],region_data.loc[0,'Month'],region_data.loc[0,'Day'],\n",
    "                            region_data.loc[0,'Hour'],region_data.loc[0,'Minute'],region_data.loc[0,'Second'])\n",
    "\n",
    "# Loop over all rows in the Dataframe - i.e from 0 to the length of the Dataframe\n",
    "for i in range(0,len(region_data)):\n",
    "    # Get the date time object for the currently indexed recording - indexed by i\n",
    "    future_date = dt.datetime(region_data.loc[i,'Year'],region_data.loc[i,'Month'],region_data.loc[i,'Day'],\n",
    "                              region_data.loc[i,'Hour'],region_data.loc[i,'Minute'],region_data.loc[i,'Second'])\n",
    "    \n",
    "    # Find difference between current datetime and inital datetime\n",
    "    day_diff = future_date - start_date\n",
    "    \n",
    "    # Fill Dataframe column with time difference in seconds (found using .total_seconds()) \n",
    "    # divided by 86400 (proportion of days that have passed)\n",
    "    region_data.loc[i,'Hours_since'] = day_diff.total_seconds()/(60*60)"
   ]
  },
  {
   "cell_type": "markdown",
   "id": "12f2dd95",
   "metadata": {},
   "source": [
    "We can filter the Dataframe to show just the 'Datetime' and 'Days_since' columns. Showing the head can give an idea if the previous cell worked - although a more thorough check is advised if possible depending on Dataframe size."
   ]
  },
  {
   "cell_type": "code",
   "execution_count": null,
   "id": "efb24cef",
   "metadata": {},
   "outputs": [],
   "source": [
    "# Filter data to 'Datetime' and 'Days_since' columns and show first 5 rows.\n",
    "region_data[['Datetime', 'Hours_since']].head(5)"
   ]
  },
  {
   "cell_type": "markdown",
   "id": "22ea18f8",
   "metadata": {},
   "source": [
    "### Plotting the Time Series  \n",
    "\n",
    "The Matplotlib .subplots() function is ideal for this and I have used Seaborn to do the actual plotting - these two packages work well together as Seaborn is built on top of Matplotlib, and Seaborn also integrates easily with Pandas Dataframes. \n",
    "\n",
    "Producing nice looking plots with lovely axes labels and colors etc. can be fiddly, but you can refer to the documentation (and StackOverflow!) for hints and tips."
   ]
  },
  {
   "cell_type": "code",
   "execution_count": null,
   "id": "d90f7552",
   "metadata": {
    "scrolled": false
   },
   "outputs": [],
   "source": [
    "import matplotlib.dates as mdates\n",
    "\n",
    "# Set up a figure with 4 axes on it. Sharex=True means all axes will share the bottom axes (can help with clarity)\n",
    "fig,ax = plt.subplots(2,2, sharex=True)\n",
    "# Set figure height and width\n",
    "fig.set_figheight(15), fig.set_figwidth(15)\n",
    "\n",
    "### PLOTTING THE DATA ### (- *s indicate a plot keyword below)\n",
    "# These Seaborn commands state that we want a *lineplot*, where the *data* is coming \n",
    "# from our region_data Dataframe, and we chose the *x* & *y* columns that we want, as well\n",
    "# as the axis (*ax*) we want to plot on (indexed by 0 at the top and 3 at the bottom)\n",
    "sns.lineplot(data=region_data, x='Hours_since', y='SST_C', color='turquoise', ax=ax[0,0])\n",
    "sns.lineplot(data=region_data, x='Hours_since', y='windspeed', color='red', ax=ax[0,1])\n",
    "sns.lineplot(data=region_data, x='Hours_since', y='xCO2air', color='green', ax=ax[1,0])\n",
    "sns.lineplot(data=region_data, x='Hours_since', y='fCO2', color='orange', ax=ax[1,1])\n",
    "\n",
    "# Set x axis label\n",
    "#plt.xlabel(f'Hours since {region_data.loc[0,\"Datetime\"]}', fontdict={'size':15})\n",
    "ax[1,0].set_xlabel(f'Hours since {region_data.loc[0,\"Datetime\"]}', fontsize = 20) \n",
    "ax[1,1].set_xlabel(f'Hours since {region_data.loc[0,\"Datetime\"]}', fontsize = 20) \n",
    "\n",
    "# Set y label for each axis\n",
    "ax[0,0].set_ylabel('SST (celsius)', fontsize = 20) \n",
    "ax[0,1].set_ylabel('Windspeed (m/s)', fontsize = 20)\n",
    "ax[1,0].set_ylabel('xCO2 (µatm/mol)', fontsize = 20)\n",
    "ax[1,1].set_ylabel('fCO2 (µatm)', fontsize = 20)\n",
    "\n",
    "\n",
    "# Changes how axis ticks are displayed for last two axes\n",
    "# - you can comment these out with # to see the effect when removed\n",
    "ax[0,0].yaxis.set_major_formatter('{x:9<5.2f}')\n",
    "ax[0,1].yaxis.set_major_formatter('{x:9<5.2f}')\n",
    "ax[1,0].yaxis.set_major_formatter('{x:9<5.2f}')\n",
    "ax[1,1].yaxis.set_major_formatter('{x:9<5.2f}')\n",
    "\n",
    "\n",
    "# Set a tight layout to remove extra space around the plots\n",
    "fig.tight_layout()\n",
    "# Reduce gap between top of figure and the title\n",
    "fig.subplots_adjust(top=0.95)\n",
    "\n",
    "# Show figure!\n",
    "plt.show()"
   ]
  },
  {
   "cell_type": "markdown",
   "id": "7e1d5d9b-e630-482e-a82f-2fca749f476a",
   "metadata": {
    "jp-MarkdownHeadingCollapsed": true,
    "tags": []
   },
   "source": [
    "### Alkalinity\n",
    "\n",
    "Here we can estimate the alkalinty by using a linear equation containing salinity and SST:\n",
    "\n",
    "$Alkalinty = 2305 + 53.97(SSS - 35) + 2.74(SSS - 35)^{2} - 1.16(SST - 20) - 0.04(SST - 20)^{2}$"
   ]
  },
  {
   "cell_type": "code",
   "execution_count": null,
   "id": "ea84f83b-2c06-44b3-9fbc-8b7e9020bc04",
   "metadata": {},
   "outputs": [],
   "source": [
    "# Create new columns in dataframe for alkalinity\n",
    "region_data['alkalinity'] = 2305 + 53.97*(region_data['salinity']-35) + 2.74*((region_data['salinity']-35)**2) - 1.16*(region_data['SST_C']-20) - 0.04*((region_data['SST_C']-20)**2)"
   ]
  },
  {
   "cell_type": "code",
   "execution_count": null,
   "id": "5af53a46-b166-432f-9220-2ec9ec76abb4",
   "metadata": {},
   "outputs": [],
   "source": [
    "# Plot alaklinity - uses same commands as above but as only one plot is required we don't need to index the axes\n",
    "fig, ax = plt.subplots(1,1, figsize=(15,5))\n",
    "sns.lineplot(data=region_data, x='Hours_since', y='alkalinity', color = \"green\", ax=ax)\n",
    "plt.xlabel(f'Hours since {region_data.loc[0,\"Datetime\"]}', fontdict={'size':15})\n",
    "ax.set_ylabel('Alkalinity (µmol/kg)', fontsize = 15) \n",
    "ax.yaxis.set_major_formatter('{x:9<5.2f}')\n",
    "plt.show()"
   ]
  },
  {
   "cell_type": "markdown",
   "id": "8e4dcfc6",
   "metadata": {},
   "source": [
    "### Displaying Data on a Map\n",
    "\n",
    "Now we aim to display the recorded data on a map. There are a couple of Python packages to do this but this script used Basemap (which is part of Matplotlib - although needs to be installed additionally) due to it having a decent spatial resolution. Note: if you're familar with GIS and producing Shapefiles you could attempt to use Geopandas, but it would require additional work.\n",
    "\n",
    "First we can aquire the min/max longitude and latitude for our data to give us an idea of the region to plot."
   ]
  },
  {
   "cell_type": "code",
   "execution_count": null,
   "id": "96751c0e",
   "metadata": {},
   "outputs": [],
   "source": [
    "# Get min and max of longitude and latitude\n",
    "region_data.describe().loc[['min','max'],['Lon','Lat']]"
   ]
  },
  {
   "cell_type": "markdown",
   "id": "830f1bf5",
   "metadata": {},
   "source": [
    "The fuction below has been written to allow easy plotting of the example datasets but also enable you to plot your own. Run the cell below to initalise the function (i.e nothing will happen)"
   ]
  },
  {
   "cell_type": "code",
   "execution_count": null,
   "id": "ad4b53fe",
   "metadata": {},
   "outputs": [],
   "source": [
    "def get_coords(location):\n",
    "    if location == 'CarrickRoads':\n",
    "        lon_min = -5.2\n",
    "        lon_max = -4.9\n",
    "        lat_min = 50.1\n",
    "        lat_max = 50.25\n",
    "        return lon_min, lon_max, lat_min, lat_max\n",
    "    \n",
    "    elif location == 'Agulhas':\n",
    "        lon_min = 19.7\n",
    "        lon_max = 20.2\n",
    "        lat_min = -35.0\n",
    "        lat_max = -34.7\n",
    "        return lon_min, lon_max, lat_min, lat_max\n",
    "    \n",
    "    else:\n",
    "        lon_min = input('Enter minimum longitude (most Westerly): ')\n",
    "        lon_max = input('Enter minimum longitude (most Easterly): ')\n",
    "        lat_min = input('Enter minimum latitude (most Southerly): ')\n",
    "        lat_max = input('Enter maximum latitude (most Northerly): ')\n",
    "        print('\\n\\n')\n",
    "        if (lon_min >= lon_max) or (lat_min >= lat_max):\n",
    "            print('Check if min/max were entered in the correct order (is a min greater than a max?)')\n",
    "            return np.nan, np.nan, np.nan, np.nan\n",
    "        \n",
    "        \n",
    "        return float(lon_min), float(lon_max), float(lat_min), float(lat_max)"
   ]
  },
  {
   "cell_type": "markdown",
   "id": "f91eeb6f",
   "metadata": {},
   "source": [
    "In the cell below you can change the string in the get_coords() function. Changing it to 'Carrick Roads' or 'Agulhus' will assign the min/max latitude & longtudes to those needed for plotting these regions (you can also enter 'World' but it's there purely to play with map projections if you wish). Alternatively you can enter 'Other', in which case text boxes will appear for you to enter the min/max longitudes and latitudes for your data."
   ]
  },
  {
   "cell_type": "code",
   "execution_count": null,
   "id": "7204d18b",
   "metadata": {},
   "outputs": [],
   "source": [
    "### Change string to 'CarrickRoads', 'Agulhas' or your own region name (use '_' for spaces)\n",
    "region_name = 'CarrickRoads'\n",
    "# Performs function\n",
    "lon_min, lon_max, lat_min, lat_max = get_coords(region_name)\n",
    "\n",
    "# Note: if you're having problems with the input fields you can uncomment the line below \n",
    "# and  just enter the values instead, but also comment out the line above to avoid confusion.\n",
    "\n",
    "# lon_min, lon_max, lat_min, lat_max = __ , __ , __ , __\n",
    "\n",
    "# Print out current values\n",
    "print('Current values:')\n",
    "print(f'Longitude -> \\t min:{lon_min} \\t max:{lon_max}')\n",
    "print(f'Latitude -> \\t min:{lat_min} \\t max:{lat_max}')"
   ]
  },
  {
   "cell_type": "markdown",
   "id": "a64f2f6d",
   "metadata": {},
   "source": [
    "Now we have the longitude and latitude bounds we can plot the map. The code below essentially 1) initialises the figure, 2) defines our map, 3) adds details to the plot, 4) adds the gridlines, and 5) plots the track from the data.\n",
    "\n",
    "The current resolution is set to 'f' (full) to get a high resolution image. If you haven't installed the basemap-data-hires package this won't work and you must change this the resolution to 'i' (intermediate) which is coarser."
   ]
  },
  {
   "cell_type": "code",
   "execution_count": null,
   "id": "4eb89bbf",
   "metadata": {},
   "outputs": [],
   "source": [
    "# 1) Intialise figure and figure size\n",
    "fig = plt.gcf()\n",
    "fig.set_size_inches(20,10, forward=True)\n",
    "\n",
    "# 2) Define the map \n",
    "# Here we have a cylindrical equidistant projection bound by our chosen latitude and longitudes,\n",
    "# and a chosen resolution ('i' = intermediate)\n",
    "m = Basemap(projection='cyl',\n",
    "            llcrnrlat=lat_min,urcrnrlat=lat_max,\n",
    "            llcrnrlon=lon_min,urcrnrlon=lon_max,\n",
    "            resolution='i')\n",
    "\n",
    "# 3) Fill land masses with green colour\n",
    "m.fillcontinents(color='green')\n",
    "\n",
    "# 4) Draw map gridlines - the 'split_lat' and 'split_lon' have been set to show a 0.05x0.05 degree \n",
    "# grid, which reflects that given in the ESA CCI data (covered next)\n",
    "split_lon = round((lon_max - lon_min)/0.05) + 1\n",
    "lons = np.linspace(lon_min,lon_max,split_lon)\n",
    "m.drawmeridians(lons,labels=[1,0,0,1])\n",
    "\n",
    "split_lat = round((lat_max - lat_min)/0.05) + 1\n",
    "lats = np.linspace(lat_min,lat_max,split_lat)\n",
    "m.drawparallels(lats,labels=[1,0,0,1])\n",
    "\n",
    "\n",
    "track_lon, track_lat = m(np.asarray(region_data['Lon']),np.asarray(region_data['Lat']))\n",
    "plt.scatter(track_lon,track_lat, s=10, marker='o', color='Red') \n",
    "\n",
    "\n",
    "plt.show()"
   ]
  }
 ],
 "metadata": {
  "kernelspec": {
   "display_name": "Python 3 (ipykernel)",
   "language": "python",
   "name": "python3"
  },
  "language_info": {
   "codemirror_mode": {
    "name": "ipython",
    "version": 3
   },
   "file_extension": ".py",
   "mimetype": "text/x-python",
   "name": "python",
   "nbconvert_exporter": "python",
   "pygments_lexer": "ipython3",
   "version": "3.7.13"
  }
 },
 "nbformat": 4,
 "nbformat_minor": 5
}
